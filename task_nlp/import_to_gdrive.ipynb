{
  "nbformat": 4,
  "nbformat_minor": 0,
  "metadata": {
    "colab": {
      "provenance": []
    },
    "kernelspec": {
      "name": "python3",
      "display_name": "Python 3"
    },
    "language_info": {
      "name": "python"
    }
  },
  "cells": [
    {
      "cell_type": "code",
      "execution_count": null,
      "metadata": {
        "id": "GYOEL4N7zIWm"
      },
      "outputs": [],
      "source": [
        "# https://kkb-production.jupyter-proxy.kaggle.net/k/131061492/eyJhbGciOiJkaXIiLCJlbmMiOiJBMTI4Q0JDLUhTMjU2IiwidHlwIjoiSldUIn0..gZi1e0bCYYIpae5yS4hcww.-ijsgMxIXTS6v7e0Ar9TeL0fJdDX1umnBwOR8QNrbi6hs-d9t7Sl-AdK5QpufXx7uuCABZM9GKeUSQ7xV-LCq-QX61iUCJspdkG5UXDjOAxfI2Lw9o9UABsrCv0T8EJ1Na3433B2zvYJq4rZmA3yMxKsKOvlIHXnbWNBROi8pHv1tqdQERHb64lAZIsOqYAJgfgmMeUVtXmstmcBpdIYdg.sr2YvfPxbX_SWm8n8AB1Bg/proxy/files/fine_tuned_model.zip"
      ]
    },
    {
      "cell_type": "code",
      "source": [
        "!wget https://kkb-production.jupyter-proxy.kaggle.net/k/131061492/eyJhbGciOiJkaXIiLCJlbmMiOiJBMTI4Q0JDLUhTMjU2IiwidHlwIjoiSldUIn0..gZi1e0bCYYIpae5yS4hcww.-ijsgMxIXTS6v7e0Ar9TeL0fJdDX1umnBwOR8QNrbi6hs-d9t7Sl-AdK5QpufXx7uuCABZM9GKeUSQ7xV-LCq-QX61iUCJspdkG5UXDjOAxfI2Lw9o9UABsrCv0T8EJ1Na3433B2zvYJq4rZmA3yMxKsKOvlIHXnbWNBROi8pHv1tqdQERHb64lAZIsOqYAJgfgmMeUVtXmstmcBpdIYdg.sr2YvfPxbX_SWm8n8AB1Bg/proxy/files/fine_tuned_model.zip"
      ],
      "metadata": {
        "colab": {
          "base_uri": "https://localhost:8080/"
        },
        "id": "QTMXsV3O0YFX",
        "outputId": "219f1f7e-b312-4271-cafd-820d99a0a6bc"
      },
      "execution_count": 2,
      "outputs": [
        {
          "output_type": "stream",
          "name": "stdout",
          "text": [
            "--2023-05-26 06:51:55--  https://kkb-production.jupyter-proxy.kaggle.net/k/131061492/eyJhbGciOiJkaXIiLCJlbmMiOiJBMTI4Q0JDLUhTMjU2IiwidHlwIjoiSldUIn0..gZi1e0bCYYIpae5yS4hcww.-ijsgMxIXTS6v7e0Ar9TeL0fJdDX1umnBwOR8QNrbi6hs-d9t7Sl-AdK5QpufXx7uuCABZM9GKeUSQ7xV-LCq-QX61iUCJspdkG5UXDjOAxfI2Lw9o9UABsrCv0T8EJ1Na3433B2zvYJq4rZmA3yMxKsKOvlIHXnbWNBROi8pHv1tqdQERHb64lAZIsOqYAJgfgmMeUVtXmstmcBpdIYdg.sr2YvfPxbX_SWm8n8AB1Bg/proxy/files/fine_tuned_model.zip\n",
            "Resolving kkb-production.jupyter-proxy.kaggle.net (kkb-production.jupyter-proxy.kaggle.net)... 35.244.180.134\n",
            "Connecting to kkb-production.jupyter-proxy.kaggle.net (kkb-production.jupyter-proxy.kaggle.net)|35.244.180.134|:443... connected.\n",
            "HTTP request sent, awaiting response... 200 OK\n",
            "Length: 1509167502 (1.4G) [application/zip]\n",
            "Saving to: ‘fine_tuned_model.zip’\n",
            "\n",
            "fine_tuned_model.zi 100%[===================>]   1.41G  21.4MB/s    in 69s     \n",
            "\n",
            "2023-05-26 06:53:05 (20.8 MB/s) - ‘fine_tuned_model.zip’ saved [1509167502/1509167502]\n",
            "\n"
          ]
        }
      ]
    },
    {
      "cell_type": "code",
      "source": [
        "from google.colab import drive\n",
        "drive.mount('/content/drive')"
      ],
      "metadata": {
        "colab": {
          "base_uri": "https://localhost:8080/"
        },
        "id": "WWyXx3y60diu",
        "outputId": "f81250fa-0c24-4c2d-cb73-13f6bcb0bc7c"
      },
      "execution_count": 3,
      "outputs": [
        {
          "output_type": "stream",
          "name": "stdout",
          "text": [
            "Mounted at /content/drive\n"
          ]
        }
      ]
    },
    {
      "cell_type": "code",
      "source": [
        "!cp \"/content/fine_tuned_model.zip\" \"/content/drive/MyDrive/finetuned_bartlargecnn/fine_tuned_model.zip\""
      ],
      "metadata": {
        "id": "svO0NStQ0fA-"
      },
      "execution_count": 4,
      "outputs": []
    }
  ]
}