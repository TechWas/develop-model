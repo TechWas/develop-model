{
 "cells": [
  {
   "attachments": {},
   "cell_type": "markdown",
   "metadata": {},
   "source": [
    "# Transfer Learning with VGG19"
   ]
  },
  {
   "attachments": {},
   "cell_type": "markdown",
   "metadata": {},
   "source": [
    "## Import Libraries"
   ]
  },
  {
   "cell_type": "code",
   "execution_count": 9,
   "metadata": {},
   "outputs": [],
   "source": [
    "import os\n",
    "import matplotlib.pyplot as plt\n",
    "import tensorflow as tf\n",
    "from keras.preprocessing.image import ImageDataGenerator\n",
    "# from tensorflow.keras.preprocessing.image import load_img\n",
    "from keras.models import Sequential\n",
    "from keras.layers import Dense, Flatten"
   ]
  },
  {
   "attachments": {},
   "cell_type": "markdown",
   "metadata": {},
   "source": [
    "## Data Preprocessing"
   ]
  },
  {
   "cell_type": "code",
   "execution_count": 10,
   "metadata": {},
   "outputs": [],
   "source": [
    "train_data_dir = 'Dataset/train & validation'"
   ]
  },
  {
   "attachments": {},
   "cell_type": "markdown",
   "metadata": {},
   "source": [
    "### Preview Data"
   ]
  },
  {
   "cell_type": "code",
   "execution_count": 11,
   "metadata": {},
   "outputs": [],
   "source": [
    "# print(\"Sample day image:\")\n",
    "# plt.imshow(load_img(f\"{os.path.join(day_dir, os.listdir(day_dir)[0])}\"))\n",
    "# plt.show()\n",
    "\n",
    "# print(\"\\nSample night image:\")\n",
    "# plt.imshow(load_img(f\"{os.path.join(night_dir, os.listdir(night_dir)[0])}\"))\n",
    "# plt.show()"
   ]
  },
  {
   "attachments": {},
   "cell_type": "markdown",
   "metadata": {},
   "source": [
    "### Image Augmentation"
   ]
  },
  {
   "cell_type": "code",
   "execution_count": 12,
   "metadata": {},
   "outputs": [],
   "source": [
    "IMAGE_SIZE = 150\n",
    "BATCH_SIZE = 32"
   ]
  },
  {
   "cell_type": "code",
   "execution_count": 13,
   "metadata": {},
   "outputs": [],
   "source": [
    "train_datagen = ImageDataGenerator(rescale=1./255,\n",
    "                                #    rotation_range=40,\n",
    "                                #    width_shift_range=0.2,\n",
    "                                #    height_shift_range=0.2,\n",
    "                                #    shear_range=0.2,\n",
    "                                #    zoom_range=0.2,\n",
    "                                #    horizontal_flip=True,\n",
    "                                #    fill_mode='nearest'\n",
    "                                validation_split=0.2)"
   ]
  },
  {
   "cell_type": "code",
   "execution_count": 14,
   "metadata": {},
   "outputs": [
    {
     "name": "stdout",
     "output_type": "stream",
     "text": [
      "Found 1037 images belonging to 5 classes.\n",
      "Found 258 images belonging to 5 classes.\n"
     ]
    }
   ],
   "source": [
    "# Set up the data generator for training and validation\n",
    "train_generator = train_datagen.flow_from_directory(train_data_dir,\n",
    "                                                    target_size=(IMAGE_SIZE, IMAGE_SIZE),\n",
    "                                                    batch_size=BATCH_SIZE,\n",
    "                                                    class_mode='categorical',\n",
    "                                                    subset='training')\n",
    "\n",
    "validation_generator = train_datagen.flow_from_directory(train_data_dir,\n",
    "                                                         target_size=(IMAGE_SIZE, IMAGE_SIZE),\n",
    "                                                         batch_size=BATCH_SIZE,\n",
    "                                                         class_mode='categorical',\n",
    "                                                         subset='validation')"
   ]
  },
  {
   "attachments": {},
   "cell_type": "markdown",
   "metadata": {},
   "source": [
    "## Modelling"
   ]
  },
  {
   "attachments": {},
   "cell_type": "markdown",
   "metadata": {},
   "source": [
    "### Pre-Trained Model Load"
   ]
  },
  {
   "cell_type": "code",
   "execution_count": 15,
   "metadata": {},
   "outputs": [],
   "source": [
    "# Load the pre-trained VGG19 model\n",
    "vgg19 = tf.keras.applications.VGG19(weights='imagenet',\n",
    "                                    include_top=False,\n",
    "                                    input_shape=(IMAGE_SIZE, IMAGE_SIZE, 3))\n",
    "\n",
    "# Freeze the weights of the pre-trained layers\n",
    "for layer in vgg19.layers:\n",
    "    vgg19.trainable = False"
   ]
  },
  {
   "attachments": {},
   "cell_type": "markdown",
   "metadata": {},
   "source": [
    "### Fine Tuning"
   ]
  },
  {
   "cell_type": "code",
   "execution_count": 16,
   "metadata": {},
   "outputs": [
    {
     "name": "stdout",
     "output_type": "stream",
     "text": [
      "Model: \"sequential\"\n",
      "_________________________________________________________________\n",
      " Layer (type)                Output Shape              Param #   \n",
      "=================================================================\n",
      " vgg19 (Functional)          (None, 4, 4, 512)         20024384  \n",
      "                                                                 \n",
      " flatten (Flatten)           (None, 8192)              0         \n",
      "                                                                 \n",
      " dense (Dense)               (None, 256)               2097408   \n",
      "                                                                 \n",
      " dense_1 (Dense)             (None, 5)                 1285      \n",
      "                                                                 \n",
      "=================================================================\n",
      "Total params: 22,123,077\n",
      "Trainable params: 2,098,693\n",
      "Non-trainable params: 20,024,384\n",
      "_________________________________________________________________\n"
     ]
    }
   ],
   "source": [
    "# Add your custom layers on top of the pre-trained model\n",
    "model = Sequential([\n",
    "    vgg19,\n",
    "    Flatten(),\n",
    "    Dense(256, activation='relu'),\n",
    "    Dense(5, activation='softmax'),\n",
    "])\n",
    "\n",
    "# Compile the model\n",
    "model.compile(optimizer='adam',\n",
    "              loss='categorical_crossentropy',\n",
    "              metrics=['accuracy'])\n",
    "\n",
    "# Look at model arshitecture\n",
    "model.summary()"
   ]
  },
  {
   "cell_type": "code",
   "execution_count": 17,
   "metadata": {},
   "outputs": [
    {
     "name": "stdout",
     "output_type": "stream",
     "text": [
      "Epoch 1/10\n",
      "33/33 [==============================] - 56s 2s/step - loss: 1.0929 - accuracy: 0.6393 - val_loss: 0.6312 - val_accuracy: 0.7287\n",
      "Epoch 2/10\n",
      "33/33 [==============================] - 54s 2s/step - loss: 0.3224 - accuracy: 0.8824 - val_loss: 0.5203 - val_accuracy: 0.7946\n",
      "Epoch 3/10\n",
      "33/33 [==============================] - 54s 2s/step - loss: 0.1958 - accuracy: 0.9441 - val_loss: 0.5127 - val_accuracy: 0.7829\n",
      "Epoch 4/10\n",
      "33/33 [==============================] - 54s 2s/step - loss: 0.0961 - accuracy: 0.9855 - val_loss: 0.5405 - val_accuracy: 0.7946\n",
      "Epoch 5/10\n",
      "33/33 [==============================] - 58s 2s/step - loss: 0.0628 - accuracy: 0.9942 - val_loss: 0.5509 - val_accuracy: 0.7829\n",
      "Epoch 6/10\n",
      "33/33 [==============================] - 54s 2s/step - loss: 0.0455 - accuracy: 0.9971 - val_loss: 0.5527 - val_accuracy: 0.8023\n",
      "Epoch 7/10\n",
      "33/33 [==============================] - 55s 2s/step - loss: 0.0306 - accuracy: 1.0000 - val_loss: 0.6166 - val_accuracy: 0.8062\n",
      "Epoch 8/10\n",
      "33/33 [==============================] - 54s 2s/step - loss: 0.0223 - accuracy: 1.0000 - val_loss: 0.6164 - val_accuracy: 0.8062\n",
      "Epoch 9/10\n",
      "33/33 [==============================] - 54s 2s/step - loss: 0.0174 - accuracy: 1.0000 - val_loss: 0.6084 - val_accuracy: 0.8023\n",
      "Epoch 10/10\n",
      "33/33 [==============================] - 58s 2s/step - loss: 0.0146 - accuracy: 1.0000 - val_loss: 0.6504 - val_accuracy: 0.8140\n"
     ]
    }
   ],
   "source": [
    "history = model.fit(train_generator,\n",
    "                    epochs=10,\n",
    "                    validation_data=validation_generator)"
   ]
  },
  {
   "attachments": {},
   "cell_type": "markdown",
   "metadata": {},
   "source": [
    "## Model Evaluation"
   ]
  },
  {
   "cell_type": "code",
   "execution_count": 18,
   "metadata": {},
   "outputs": [],
   "source": [
    "def plot_graghs(history, metric):\n",
    "  plt.plot(history.history[metric])\n",
    "  plt.plot(history.history['val_'+metric], '')\n",
    "  plt.xlabel('Epochs')\n",
    "  plt.ylabel(metric)\n",
    "  plt.legend([metric, 'val_'+metric])\n",
    "  plt.show()"
   ]
  },
  {
   "cell_type": "markdown",
   "metadata": {},
   "source": [
    "### Accuracy"
   ]
  },
  {
   "cell_type": "code",
   "execution_count": 19,
   "metadata": {},
   "outputs": [
    {
     "data": {
      "image/png": "[encoded data removed]",
      "text/plain": [
       "<Figure size 432x288 with 1 Axes>"
      ]
     },
     "metadata": {
      "needs_background": "light"
     },
     "output_type": "display_data"
    }
   ],
   "source": [
    "plot_graghs(history, 'accuracy')"
   ]
  },
  {
   "cell_type": "markdown",
   "metadata": {},
   "source": [
    "### Loss"
   ]
  },
  {
   "cell_type": "code",
   "execution_count": 20,
   "metadata": {},
   "outputs": [
    {
     "data": {
      "image/png": "[encoded data removed]",
      "text/plain": [
       "<Figure size 432x288 with 1 Axes>"
      ]
     },
     "metadata": {
      "needs_background": "light"
     },
     "output_type": "display_data"
    }
   ],
   "source": [
    "plot_graghs(history, 'loss')"
   ]
  },
  {
   "attachments": {},
   "cell_type": "markdown",
   "metadata": {},
   "source": [
    "## Model Predictions"
   ]
  },
  {
   "cell_type": "code",
   "execution_count": 23,
   "metadata": {},
   "outputs": [
    {
     "name": "stdout",
     "output_type": "stream",
     "text": [
      "1/1 [==============================] - 0s 67ms/step\n",
      "keyboard.jpg\n",
      "Keyboard : 85.96%\n",
      "Laptop : 1.50%\n",
      "Monitor : 0.00%\n",
      "Mouse : 0.05%\n",
      "Phone : 12.48%\n",
      "1/1 [==============================] - 0s 91ms/step\n",
      "laptop_0,5_mati.jpg\n",
      "Keyboard : 0.10%\n",
      "Laptop : 98.18%\n",
      "Monitor : 1.64%\n",
      "Mouse : 0.05%\n",
      "Phone : 0.02%\n",
      "1/1 [==============================] - 0s 87ms/step\n",
      "laptop_hidup.jpg\n",
      "Keyboard : 0.02%\n",
      "Laptop : 99.47%\n",
      "Monitor : 0.42%\n",
      "Mouse : 0.01%\n",
      "Phone : 0.09%\n",
      "1/1 [==============================] - 0s 76ms/step\n",
      "laptop_mati.jpg\n",
      "Keyboard : 0.10%\n",
      "Laptop : 96.34%\n",
      "Monitor : 3.49%\n",
      "Mouse : 0.07%\n",
      "Phone : 0.01%\n",
      "1/1 [==============================] - 0s 81ms/step\n",
      "monitor_hidup.jpg\n",
      "Keyboard : 23.96%\n",
      "Laptop : 75.69%\n",
      "Monitor : 0.04%\n",
      "Mouse : 0.00%\n",
      "Phone : 0.31%\n",
      "1/1 [==============================] - 0s 80ms/step\n",
      "monitor_mati.jpg\n",
      "Keyboard : 0.04%\n",
      "Laptop : 2.00%\n",
      "Monitor : 97.92%\n",
      "Mouse : 0.03%\n",
      "Phone : 0.01%\n",
      "1/1 [==============================] - 0s 81ms/step\n",
      "mouse.jpg\n",
      "Keyboard : 0.01%\n",
      "Laptop : 0.02%\n",
      "Monitor : 0.07%\n",
      "Mouse : 99.85%\n",
      "Phone : 0.06%\n",
      "1/1 [==============================] - 0s 75ms/step\n",
      "phone_hidup.jpg\n",
      "Keyboard : 0.69%\n",
      "Laptop : 0.01%\n",
      "Monitor : 0.01%\n",
      "Mouse : 0.93%\n",
      "Phone : 98.36%\n",
      "1/1 [==============================] - 0s 81ms/step\n",
      "phone_mati.jpg\n",
      "Keyboard : 4.39%\n",
      "Laptop : 10.73%\n",
      "Monitor : 41.09%\n",
      "Mouse : 2.40%\n",
      "Phone : 41.39%\n"
     ]
    }
   ],
   "source": [
    "import numpy as np\n",
    "from tensorflow.keras.utils import load_img, img_to_array\n",
    "\n",
    "label = ['Keyboard', 'Laptop', 'Monitor', 'Mouse', 'Phone']\n",
    "for fn in os.listdir('Dataset/test'):\n",
    "  path = './Dataset/test/' + fn\n",
    "  img = load_img(path, target_size=(150, 150))\n",
    "  x = img_to_array(img)\n",
    "  x /= 255\n",
    "  x = np.expand_dims(x, axis=0)\n",
    "\n",
    "  images = np.vstack([x])\n",
    "  classes = model.predict(images, batch_size=10)\n",
    "  print(fn)\n",
    "  for i, l in zip(classes[0], label):\n",
    "    print(\"{} : {:.2%}\".format(l, i))"
   ]
  },
  {
   "attachments": {},
   "cell_type": "markdown",
   "metadata": {},
   "source": [
    "## Save the Model"
   ]
  },
  {
   "cell_type": "code",
   "execution_count": 22,
   "metadata": {},
   "outputs": [],
   "source": [
    "# Save the model\n",
    "# model.save('e_waste_classifier.h5')"
   ]
  }
 ],
 "metadata": {
  "kernelspec": {
   "display_name": "Python 3",
   "language": "python",
   "name": "python3"
  },
  "language_info": {
   "codemirror_mode": {
    "name": "ipython",
    "version": 3
   },
   "file_extension": ".py",
   "mimetype": "text/x-python",
   "name": "python",
   "nbconvert_exporter": "python",
   "pygments_lexer": "ipython3",
   "version": "3.10.5"
  },
  "orig_nbformat": 4
 },
 "nbformat": 4,
 "nbformat_minor": 2
}
