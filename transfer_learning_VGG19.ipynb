{
 "cells": [
  {
   "attachments": {},
   "cell_type": "markdown",
   "metadata": {},
   "source": [
    "# Transfer Learning with VGG19"
   ]
  },
  {
   "attachments": {},
   "cell_type": "markdown",
   "metadata": {},
   "source": [
    "## Import Libraries"
   ]
  },
  {
   "cell_type": "code",
   "execution_count": 35,
   "metadata": {},
   "outputs": [],
   "source": [
    "import os\n",
    "import matplotlib.pyplot as plt\n",
    "import tensorflow as tf\n",
    "from keras.preprocessing.image import ImageDataGenerator\n",
    "# from tensorflow.keras.preprocessing.image import load_img\n",
    "from keras.models import Sequential\n",
    "from keras.layers import Dense, Flatten"
   ]
  },
  {
   "attachments": {},
   "cell_type": "markdown",
   "metadata": {},
   "source": [
    "## Data Preprocessing"
   ]
  },
  {
   "cell_type": "code",
   "execution_count": 8,
   "metadata": {},
   "outputs": [],
   "source": [
    "train_data_dir = 'Dataset/train'\n",
    "validation_data_dir = 'Dataset/validation'"
   ]
  },
  {
   "attachments": {},
   "cell_type": "markdown",
   "metadata": {},
   "source": [
    "### Preview Data"
   ]
  },
  {
   "cell_type": "code",
   "execution_count": null,
   "metadata": {},
   "outputs": [],
   "source": [
    "# print(\"Sample day image:\")\n",
    "# plt.imshow(load_img(f\"{os.path.join(day_dir, os.listdir(day_dir)[0])}\"))\n",
    "# plt.show()\n",
    "\n",
    "# print(\"\\nSample night image:\")\n",
    "# plt.imshow(load_img(f\"{os.path.join(night_dir, os.listdir(night_dir)[0])}\"))\n",
    "# plt.show()"
   ]
  },
  {
   "attachments": {},
   "cell_type": "markdown",
   "metadata": {},
   "source": [
    "### Image Augmentation"
   ]
  },
  {
   "cell_type": "code",
   "execution_count": 9,
   "metadata": {},
   "outputs": [],
   "source": [
    "train_datagen = ImageDataGenerator(rescale=1./255,\n",
    "                                   rotation_range=40,\n",
    "                                   width_shift_range=0.2,\n",
    "                                   height_shift_range=0.2,\n",
    "                                   shear_range=0.2,\n",
    "                                   zoom_range=0.2,\n",
    "                                   horizontal_flip=True,\n",
    "                                   fill_mode='nearest')\n",
    "\n",
    "validation_datagen = ImageDataGenerator(rescale=1./255)"
   ]
  },
  {
   "cell_type": "code",
   "execution_count": 10,
   "metadata": {},
   "outputs": [
    {
     "name": "stdout",
     "output_type": "stream",
     "text": [
      "Found 1079 images belonging to 5 classes.\n",
      "Found 216 images belonging to 5 classes.\n"
     ]
    }
   ],
   "source": [
    "# Set up the data generator for training and validation\n",
    "train_generator = train_datagen.flow_from_directory(train_data_dir,\n",
    "                                                    target_size=(150, 150),\n",
    "                                                    batch_size=32,\n",
    "                                                    class_mode='categorical')\n",
    "\n",
    "validation_generator = validation_datagen.flow_from_directory(validation_data_dir,\n",
    "                                                              target_size=(150, 150),\n",
    "                                                              batch_size=32,\n",
    "                                                              class_mode='categorical')"
   ]
  },
  {
   "attachments": {},
   "cell_type": "markdown",
   "metadata": {},
   "source": [
    "## Modelling"
   ]
  },
  {
   "attachments": {},
   "cell_type": "markdown",
   "metadata": {},
   "source": [
    "### Pre-Trained Model Load"
   ]
  },
  {
   "cell_type": "code",
   "execution_count": 11,
   "metadata": {},
   "outputs": [
    {
     "name": "stdout",
     "output_type": "stream",
     "text": [
      "Downloading data from https://storage.googleapis.com/tensorflow/keras-applications/vgg19/vgg19_weights_tf_dim_ordering_tf_kernels_notop.h5\n",
      "80134624/80134624 [==============================] - 242s 3us/step\n"
     ]
    }
   ],
   "source": [
    "# Load the pre-trained VGG19 model\n",
    "vgg19 = tf.keras.applications.VGG19(weights='imagenet',\n",
    "                                    include_top=False,\n",
    "                                    input_shape=(150, 150, 3))\n",
    "\n",
    "# Freeze the weights of the pre-trained layers\n",
    "for layer in vgg19.layers:\n",
    "    layer.trainable = False"
   ]
  },
  {
   "attachments": {},
   "cell_type": "markdown",
   "metadata": {},
   "source": [
    "### Fine Tuning"
   ]
  },
  {
   "cell_type": "code",
   "execution_count": 21,
   "metadata": {},
   "outputs": [
    {
     "name": "stdout",
     "output_type": "stream",
     "text": [
      "Model: \"sequential_4\"\n",
      "_________________________________________________________________\n",
      " Layer (type)                Output Shape              Param #   \n",
      "=================================================================\n",
      " vgg19 (Functional)          (None, 4, 4, 512)         20024384  \n",
      "                                                                 \n",
      " flatten_4 (Flatten)         (None, 8192)              0         \n",
      "                                                                 \n",
      " dense_8 (Dense)             (None, 256)               2097408   \n",
      "                                                                 \n",
      " dense_9 (Dense)             (None, 5)                 1285      \n",
      "                                                                 \n",
      "=================================================================\n",
      "Total params: 22,123,077\n",
      "Trainable params: 2,098,693\n",
      "Non-trainable params: 20,024,384\n",
      "_________________________________________________________________\n"
     ]
    }
   ],
   "source": [
    "# Add your custom layers on top of the pre-trained model\n",
    "model = Sequential([\n",
    "    vgg19,\n",
    "    Flatten(),\n",
    "    Dense(256, activation='relu'),\n",
    "    Dense(5, activation='softmax'),\n",
    "])\n",
    "\n",
    "# Compile the model\n",
    "model.compile(optimizer='adam',\n",
    "              loss='categorical_crossentropy',\n",
    "              metrics=['accuracy'])\n",
    "\n",
    "# Look at model arshitecture\n",
    "model.summary()"
   ]
  },
  {
   "cell_type": "code",
   "execution_count": 22,
   "metadata": {},
   "outputs": [
    {
     "name": "stdout",
     "output_type": "stream",
     "text": [
      "Epoch 1/10\n",
      "34/34 [==============================] - 53s 2s/step - loss: 1.2821 - accuracy: 0.5338 - val_loss: 0.5204 - val_accuracy: 0.7407\n",
      "Epoch 2/10\n",
      "34/34 [==============================] - 53s 2s/step - loss: 0.7048 - accuracy: 0.7099 - val_loss: 0.4348 - val_accuracy: 0.8333\n",
      "Epoch 3/10\n",
      "34/34 [==============================] - 51s 1s/step - loss: 0.5823 - accuracy: 0.7692 - val_loss: 0.3810 - val_accuracy: 0.8704\n",
      "Epoch 4/10\n",
      "34/34 [==============================] - 52s 2s/step - loss: 0.4913 - accuracy: 0.8156 - val_loss: 0.3674 - val_accuracy: 0.8565\n",
      "Epoch 5/10\n",
      "34/34 [==============================] - 50s 1s/step - loss: 0.5007 - accuracy: 0.8054 - val_loss: 0.3943 - val_accuracy: 0.8565\n",
      "Epoch 6/10\n",
      "34/34 [==============================] - 52s 2s/step - loss: 0.4512 - accuracy: 0.8202 - val_loss: 0.3633 - val_accuracy: 0.8565\n",
      "Epoch 7/10\n",
      "34/34 [==============================] - 50s 1s/step - loss: 0.4595 - accuracy: 0.8276 - val_loss: 0.3395 - val_accuracy: 0.8935\n",
      "Epoch 8/10\n",
      "34/34 [==============================] - 51s 2s/step - loss: 0.4529 - accuracy: 0.8230 - val_loss: 0.3551 - val_accuracy: 0.8704\n",
      "Epoch 9/10\n",
      "34/34 [==============================] - 50s 1s/step - loss: 0.4716 - accuracy: 0.8165 - val_loss: 0.3164 - val_accuracy: 0.8889\n",
      "Epoch 10/10\n",
      "34/34 [==============================] - 52s 2s/step - loss: 0.4374 - accuracy: 0.8230 - val_loss: 0.4414 - val_accuracy: 0.8472\n"
     ]
    }
   ],
   "source": [
    "history = model.fit(train_generator,\n",
    "                    epochs=10,\n",
    "                    validation_data=validation_generator)"
   ]
  },
  {
   "attachments": {},
   "cell_type": "markdown",
   "metadata": {},
   "source": [
    "## Model Evaluation"
   ]
  },
  {
   "cell_type": "code",
   "execution_count": 32,
   "metadata": {},
   "outputs": [],
   "source": [
    "def plot_graghs(history, metric):\n",
    "  plt.plot(history.history[metric])\n",
    "  plt.plot(history.history['val_'+metric], '')\n",
    "  plt.xlabel('Epochs')\n",
    "  plt.ylabel(metric)\n",
    "  plt.legend([metric, 'val_'+metric])\n",
    "  plt.show()"
   ]
  },
  {
   "cell_type": "markdown",
   "metadata": {},
   "source": [
    "### Accuracy"
   ]
  },
  {
   "cell_type": "code",
   "execution_count": 33,
   "metadata": {},
   "outputs": [
    {
     "data": {
      "image/png": "[encoded data removed]",
      "text/plain": [
       "<Figure size 432x288 with 1 Axes>"
      ]
     },
     "metadata": {
      "needs_background": "light"
     },
     "output_type": "display_data"
    }
   ],
   "source": [
    "plot_graghs(history, 'accuracy')"
   ]
  },
  {
   "cell_type": "markdown",
   "metadata": {},
   "source": [
    "### Loss"
   ]
  },
  {
   "cell_type": "code",
   "execution_count": 34,
   "metadata": {},
   "outputs": [
    {
     "data": {
      "image/png": "[encoded data removed]",
      "text/plain": [
       "<Figure size 432x288 with 1 Axes>"
      ]
     },
     "metadata": {
      "needs_background": "light"
     },
     "output_type": "display_data"
    }
   ],
   "source": [
    "plot_graghs(history, 'loss')"
   ]
  },
  {
   "attachments": {},
   "cell_type": "markdown",
   "metadata": {},
   "source": [
    "## Model Predictions"
   ]
  },
  {
   "cell_type": "code",
   "execution_count": 55,
   "metadata": {},
   "outputs": [
    {
     "name": "stdout",
     "output_type": "stream",
     "text": [
      "1/1 [==============================] - 0s 84ms/step\n",
      "keyboard.jpg\n",
      "Keyboard : 87.01%\n",
      "Laptop : 11.08%\n",
      "Monitor : 0.07%\n",
      "Mouse : 0.05%\n",
      "Phone : 1.79%\n",
      "1/1 [==============================] - 0s 73ms/step\n",
      "laptop_0,5_mati.jpg\n",
      "Keyboard : 0.01%\n",
      "Laptop : 98.30%\n",
      "Monitor : 1.69%\n",
      "Mouse : 0.00%\n",
      "Phone : 0.01%\n",
      "1/1 [==============================] - 0s 78ms/step\n",
      "laptop_hidup.jpg\n",
      "Keyboard : 0.00%\n",
      "Laptop : 99.71%\n",
      "Monitor : 0.29%\n",
      "Mouse : 0.00%\n",
      "Phone : 0.00%\n",
      "1/1 [==============================] - 0s 78ms/step\n",
      "laptop_mati.jpg\n",
      "Keyboard : 0.00%\n",
      "Laptop : 99.09%\n",
      "Monitor : 0.90%\n",
      "Mouse : 0.00%\n",
      "Phone : 0.00%\n",
      "1/1 [==============================] - 0s 71ms/step\n",
      "monitor_hidup.jpg\n",
      "Keyboard : 1.74%\n",
      "Laptop : 95.63%\n",
      "Monitor : 2.58%\n",
      "Mouse : 0.00%\n",
      "Phone : 0.06%\n",
      "1/1 [==============================] - 0s 76ms/step\n",
      "monitor_mati.jpg\n",
      "Keyboard : 0.04%\n",
      "Laptop : 7.13%\n",
      "Monitor : 92.81%\n",
      "Mouse : 0.00%\n",
      "Phone : 0.02%\n",
      "1/1 [==============================] - 0s 78ms/step\n",
      "mouse.jpg\n",
      "Keyboard : 0.04%\n",
      "Laptop : 1.22%\n",
      "Monitor : 1.56%\n",
      "Mouse : 92.24%\n",
      "Phone : 4.94%\n",
      "1/1 [==============================] - 0s 76ms/step\n",
      "phone_hidup.jpg\n",
      "Keyboard : 0.21%\n",
      "Laptop : 1.17%\n",
      "Monitor : 2.58%\n",
      "Mouse : 0.99%\n",
      "Phone : 95.05%\n",
      "1/1 [==============================] - 0s 90ms/step\n",
      "phone_mati.jpg\n",
      "Keyboard : 0.07%\n",
      "Laptop : 33.60%\n",
      "Monitor : 62.84%\n",
      "Mouse : 0.11%\n",
      "Phone : 3.38%\n"
     ]
    }
   ],
   "source": [
    "import numpy as np\n",
    "from tensorflow.keras.utils import load_img, img_to_array\n",
    "\n",
    "label = ['Keyboard', 'Laptop', 'Monitor', 'Mouse', 'Phone']\n",
    "for fn in os.listdir('test'):\n",
    "  path = './test/' + fn\n",
    "  img = load_img(path, target_size=(150, 150))\n",
    "  x = img_to_array(img)\n",
    "  x /= 255\n",
    "  x = np.expand_dims(x, axis=0)\n",
    "\n",
    "  images = np.vstack([x])\n",
    "  classes = model.predict(images, batch_size=10)\n",
    "  print(fn)\n",
    "  for i, l in zip(classes[0], label):\n",
    "    print(\"{} : {:.2%}\".format(l, i))"
   ]
  },
  {
   "attachments": {},
   "cell_type": "markdown",
   "metadata": {},
   "source": [
    "## Save the Model"
   ]
  },
  {
   "cell_type": "code",
   "execution_count": null,
   "metadata": {},
   "outputs": [],
   "source": [
    "# Save the model\n",
    "# model.save('e_waste_classifier.h5')"
   ]
  }
 ],
 "metadata": {
  "kernelspec": {
   "display_name": "Python 3",
   "language": "python",
   "name": "python3"
  },
  "language_info": {
   "codemirror_mode": {
    "name": "ipython",
    "version": 3
   },
   "file_extension": ".py",
   "mimetype": "text/x-python",
   "name": "python",
   "nbconvert_exporter": "python",
   "pygments_lexer": "ipython3",
   "version": "3.10.5"
  },
  "orig_nbformat": 4
 },
 "nbformat": 4,
 "nbformat_minor": 2
}
