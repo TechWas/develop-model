{
 "cells": [
  {
   "attachments": {},
   "cell_type": "markdown",
   "metadata": {},
   "source": [
    "# Transfer Learning with InceptionV3"
   ]
  },
  {
   "attachments": {},
   "cell_type": "markdown",
   "metadata": {},
   "source": [
    "## Import Libraries"
   ]
  },
  {
   "cell_type": "code",
   "execution_count": 1,
   "metadata": {},
   "outputs": [],
   "source": [
    "import os\n",
    "import matplotlib.pyplot as plt\n",
    "import tensorflow as tf\n",
    "from keras.preprocessing.image import ImageDataGenerator\n",
    "# from tensorflow.keras.preprocessing.image import load_img\n",
    "from keras.models import Sequential\n",
    "from keras.layers import Dense, Flatten"
   ]
  },
  {
   "cell_type": "markdown",
   "metadata": {},
   "source": [
    "## Data Preprocessing"
   ]
  },
  {
   "cell_type": "code",
   "execution_count": 2,
   "metadata": {},
   "outputs": [],
   "source": [
    "train_data_dir = 'Dataset/train & validation'"
   ]
  },
  {
   "cell_type": "markdown",
   "metadata": {},
   "source": [
    "### Preview Data"
   ]
  },
  {
   "cell_type": "code",
   "execution_count": 3,
   "metadata": {},
   "outputs": [],
   "source": [
    "# print(\"Sample day image:\")\n",
    "# plt.imshow(load_img(f\"{os.path.join(day_dir, os.listdir(day_dir)[0])}\"))\n",
    "# plt.show()\n",
    "\n",
    "# print(\"\\nSample night image:\")\n",
    "# plt.imshow(load_img(f\"{os.path.join(night_dir, os.listdir(night_dir)[0])}\"))\n",
    "# plt.show()"
   ]
  },
  {
   "cell_type": "markdown",
   "metadata": {},
   "source": [
    "### Image Augmentation"
   ]
  },
  {
   "cell_type": "code",
   "execution_count": 4,
   "metadata": {},
   "outputs": [],
   "source": [
    "IMAGE_SIZE = 150\n",
    "BATCH_SIZE = 32"
   ]
  },
  {
   "cell_type": "code",
   "execution_count": 5,
   "metadata": {},
   "outputs": [],
   "source": [
    "train_datagen = ImageDataGenerator(rescale=1./255,\n",
    "                                #    rotation_range=40,\n",
    "                                #    width_shift_range=0.2,\n",
    "                                #    height_shift_range=0.2,\n",
    "                                #    shear_range=0.2,\n",
    "                                #    zoom_range=0.2,\n",
    "                                #    horizontal_flip=True,\n",
    "                                #    fill_mode='nearest'\n",
    "                                   validation_split=0.2)"
   ]
  },
  {
   "cell_type": "code",
   "execution_count": 6,
   "metadata": {},
   "outputs": [
    {
     "name": "stdout",
     "output_type": "stream",
     "text": [
      "Found 1037 images belonging to 5 classes.\n",
      "Found 258 images belonging to 5 classes.\n"
     ]
    }
   ],
   "source": [
    "# Set up the data generator for training and validation\n",
    "train_generator = train_datagen.flow_from_directory(train_data_dir,\n",
    "                                                    target_size=(IMAGE_SIZE, IMAGE_SIZE),\n",
    "                                                    batch_size=BATCH_SIZE,\n",
    "                                                    class_mode='categorical',\n",
    "                                                    subset='training')\n",
    "\n",
    "validation_generator = train_datagen.flow_from_directory(train_data_dir,\n",
    "                                                         target_size=(IMAGE_SIZE, IMAGE_SIZE),\n",
    "                                                         batch_size=BATCH_SIZE,\n",
    "                                                         class_mode='categorical',\n",
    "                                                         subset='validation')"
   ]
  },
  {
   "attachments": {},
   "cell_type": "markdown",
   "metadata": {},
   "source": [
    "## Modelling"
   ]
  },
  {
   "attachments": {},
   "cell_type": "markdown",
   "metadata": {},
   "source": [
    "### Pre-Trained Model Load"
   ]
  },
  {
   "cell_type": "code",
   "execution_count": 7,
   "metadata": {},
   "outputs": [],
   "source": [
    "# Load the pre-trained InceptionV3 model\n",
    "incv3 = tf.keras.applications.InceptionV3(weights='imagenet',\n",
    "                                          include_top=False,\n",
    "                                          input_shape=(150, 150, 3))\n",
    "\n",
    "# Freeze the weights of the pre-trained layers\n",
    "for layer in incv3.layers:\n",
    "    incv3.trainable = False"
   ]
  },
  {
   "attachments": {},
   "cell_type": "markdown",
   "metadata": {},
   "source": [
    "### Fine Tuning"
   ]
  },
  {
   "cell_type": "code",
   "execution_count": 8,
   "metadata": {},
   "outputs": [
    {
     "name": "stdout",
     "output_type": "stream",
     "text": [
      "Model: \"sequential\"\n",
      "_________________________________________________________________\n",
      " Layer (type)                Output Shape              Param #   \n",
      "=================================================================\n",
      " inception_v3 (Functional)   (None, 3, 3, 2048)        21802784  \n",
      "                                                                 \n",
      " flatten (Flatten)           (None, 18432)             0         \n",
      "                                                                 \n",
      " dense (Dense)               (None, 256)               4718848   \n",
      "                                                                 \n",
      " dense_1 (Dense)             (None, 5)                 1285      \n",
      "                                                                 \n",
      "=================================================================\n",
      "Total params: 26,522,917\n",
      "Trainable params: 4,720,133\n",
      "Non-trainable params: 21,802,784\n",
      "_________________________________________________________________\n"
     ]
    }
   ],
   "source": [
    "# Add your custom layers on top of the pre-trained model\n",
    "model = Sequential([\n",
    "    incv3,\n",
    "    Flatten(),\n",
    "    Dense(256, activation='relu'),\n",
    "    Dense(5, activation='softmax'),\n",
    "])\n",
    "\n",
    "# Compile the model\n",
    "model.compile(optimizer='adam',\n",
    "              loss='categorical_crossentropy',\n",
    "              metrics=['accuracy'])\n",
    "\n",
    "# Look at model arshitecture\n",
    "model.summary()"
   ]
  },
  {
   "cell_type": "code",
   "execution_count": 9,
   "metadata": {},
   "outputs": [
    {
     "name": "stdout",
     "output_type": "stream",
     "text": [
      "Epoch 1/10\n",
      "33/33 [==============================] - 17s 436ms/step - loss: 7.7172 - accuracy: 0.6721 - val_loss: 1.6466 - val_accuracy: 0.7558\n",
      "Epoch 2/10\n",
      "33/33 [==============================] - 15s 448ms/step - loss: 0.1996 - accuracy: 0.9344 - val_loss: 1.2923 - val_accuracy: 0.8023\n",
      "Epoch 3/10\n",
      "33/33 [==============================] - 14s 415ms/step - loss: 0.0621 - accuracy: 0.9778 - val_loss: 1.1218 - val_accuracy: 0.7868\n",
      "Epoch 4/10\n",
      "33/33 [==============================] - 14s 411ms/step - loss: 0.0239 - accuracy: 0.9961 - val_loss: 1.2353 - val_accuracy: 0.7946\n",
      "Epoch 5/10\n",
      "33/33 [==============================] - 15s 444ms/step - loss: 0.0133 - accuracy: 0.9990 - val_loss: 1.2781 - val_accuracy: 0.7984\n",
      "Epoch 6/10\n",
      "33/33 [==============================] - 15s 440ms/step - loss: 0.0080 - accuracy: 1.0000 - val_loss: 1.3118 - val_accuracy: 0.7868\n",
      "Epoch 7/10\n",
      "33/33 [==============================] - 14s 417ms/step - loss: 0.0054 - accuracy: 1.0000 - val_loss: 1.3156 - val_accuracy: 0.7984\n",
      "Epoch 8/10\n",
      "33/33 [==============================] - 14s 434ms/step - loss: 0.0038 - accuracy: 1.0000 - val_loss: 1.3365 - val_accuracy: 0.7946\n",
      "Epoch 9/10\n",
      "33/33 [==============================] - 13s 408ms/step - loss: 0.0032 - accuracy: 1.0000 - val_loss: 1.3700 - val_accuracy: 0.7946\n",
      "Epoch 10/10\n",
      "33/33 [==============================] - 14s 427ms/step - loss: 0.0026 - accuracy: 1.0000 - val_loss: 1.3923 - val_accuracy: 0.7946\n"
     ]
    }
   ],
   "source": [
    "history = model.fit(train_generator,\n",
    "                    epochs=10,\n",
    "                    validation_data=validation_generator)"
   ]
  },
  {
   "attachments": {},
   "cell_type": "markdown",
   "metadata": {},
   "source": [
    "## Model Evaluation"
   ]
  },
  {
   "cell_type": "code",
   "execution_count": 10,
   "metadata": {},
   "outputs": [],
   "source": [
    "def plot_graghs(history, metric):\n",
    "  plt.plot(history.history[metric])\n",
    "  plt.plot(history.history['val_'+metric], '')\n",
    "  plt.xlabel('Epochs')\n",
    "  plt.ylabel(metric)\n",
    "  plt.legend([metric, 'val_'+metric])\n",
    "  plt.show()"
   ]
  },
  {
   "attachments": {},
   "cell_type": "markdown",
   "metadata": {},
   "source": [
    "### Accuracy"
   ]
  },
  {
   "cell_type": "code",
   "execution_count": 11,
   "metadata": {},
   "outputs": [
    {
     "data": {
      "image/png": "[encoded data removed]",
      "text/plain": [
       "<Figure size 432x288 with 1 Axes>"
      ]
     },
     "metadata": {
      "needs_background": "light"
     },
     "output_type": "display_data"
    }
   ],
   "source": [
    "plot_graghs(history, 'accuracy')"
   ]
  },
  {
   "attachments": {},
   "cell_type": "markdown",
   "metadata": {},
   "source": [
    "### Loss"
   ]
  },
  {
   "cell_type": "code",
   "execution_count": 12,
   "metadata": {},
   "outputs": [
    {
     "data": {
      "image/png": "[encoded data removed]",
      "text/plain": [
       "<Figure size 432x288 with 1 Axes>"
      ]
     },
     "metadata": {
      "needs_background": "light"
     },
     "output_type": "display_data"
    }
   ],
   "source": [
    "plot_graghs(history, 'loss')"
   ]
  },
  {
   "cell_type": "markdown",
   "metadata": {},
   "source": [
    "## Model Predictions"
   ]
  },
  {
   "cell_type": "code",
   "execution_count": 13,
   "metadata": {},
   "outputs": [
    {
     "name": "stdout",
     "output_type": "stream",
     "text": [
      "1/1 [==============================] - 1s 992ms/step\n",
      "keyboard.jpg\n",
      "Keyboard : 51.29%\n",
      "Laptop : 48.71%\n",
      "Monitor : 0.00%\n",
      "Mouse : 0.00%\n",
      "Phone : 0.00%\n",
      "1/1 [==============================] - 0s 64ms/step\n",
      "laptop_0,5_mati.jpg\n",
      "Keyboard : 0.00%\n",
      "Laptop : 99.83%\n",
      "Monitor : 0.08%\n",
      "Mouse : 0.00%\n",
      "Phone : 0.10%\n",
      "1/1 [==============================] - 0s 45ms/step\n",
      "laptop_hidup.jpg\n",
      "Keyboard : 0.00%\n",
      "Laptop : 100.00%\n",
      "Monitor : 0.00%\n",
      "Mouse : 0.00%\n",
      "Phone : 0.00%\n",
      "1/1 [==============================] - 0s 41ms/step\n",
      "laptop_mati.jpg\n",
      "Keyboard : 0.00%\n",
      "Laptop : 99.94%\n",
      "Monitor : 0.04%\n",
      "Mouse : 0.00%\n",
      "Phone : 0.03%\n",
      "1/1 [==============================] - 0s 39ms/step\n",
      "monitor_hidup.jpg\n",
      "Keyboard : 0.16%\n",
      "Laptop : 99.83%\n",
      "Monitor : 0.00%\n",
      "Mouse : 0.00%\n",
      "Phone : 0.01%\n",
      "1/1 [==============================] - 0s 42ms/step\n",
      "monitor_mati.jpg\n",
      "Keyboard : 0.00%\n",
      "Laptop : 0.09%\n",
      "Monitor : 50.86%\n",
      "Mouse : 0.01%\n",
      "Phone : 49.04%\n",
      "1/1 [==============================] - 0s 45ms/step\n",
      "mouse.jpg\n",
      "Keyboard : 0.00%\n",
      "Laptop : 0.00%\n",
      "Monitor : 81.87%\n",
      "Mouse : 15.33%\n",
      "Phone : 2.80%\n",
      "1/1 [==============================] - 0s 43ms/step\n",
      "phone_hidup.jpg\n",
      "Keyboard : 0.00%\n",
      "Laptop : 0.40%\n",
      "Monitor : 18.98%\n",
      "Mouse : 0.00%\n",
      "Phone : 80.61%\n",
      "1/1 [==============================] - 0s 50ms/step\n",
      "phone_mati.jpg\n",
      "Keyboard : 0.00%\n",
      "Laptop : 0.00%\n",
      "Monitor : 37.95%\n",
      "Mouse : 55.05%\n",
      "Phone : 7.00%\n"
     ]
    }
   ],
   "source": [
    "import numpy as np\n",
    "from tensorflow.keras.utils import load_img, img_to_array\n",
    "\n",
    "label = ['Keyboard', 'Laptop', 'Monitor', 'Mouse', 'Phone']\n",
    "for fn in os.listdir('Dataset/test'):\n",
    "  path = './Dataset/test/' + fn\n",
    "  img = load_img(path, target_size=(150, 150))\n",
    "  x = img_to_array(img)\n",
    "  x /= 255\n",
    "  x = np.expand_dims(x, axis=0)\n",
    "\n",
    "  images = np.vstack([x])\n",
    "  classes = model.predict(images, batch_size=10)\n",
    "  print(fn)\n",
    "  for i, l in zip(classes[0], label):\n",
    "    print(\"{} : {:.2%}\".format(l, i))"
   ]
  },
  {
   "attachments": {},
   "cell_type": "markdown",
   "metadata": {},
   "source": [
    "## Save the Model"
   ]
  },
  {
   "cell_type": "code",
   "execution_count": 14,
   "metadata": {},
   "outputs": [],
   "source": [
    "# Save the model\n",
    "# model.save('e_waste_classifier.h5')"
   ]
  }
 ],
 "metadata": {
  "kernelspec": {
   "display_name": "Python 3",
   "language": "python",
   "name": "python3"
  },
  "language_info": {
   "codemirror_mode": {
    "name": "ipython",
    "version": 3
   },
   "file_extension": ".py",
   "mimetype": "text/x-python",
   "name": "python",
   "nbconvert_exporter": "python",
   "pygments_lexer": "ipython3",
   "version": "3.10.5"
  },
  "orig_nbformat": 4
 },
 "nbformat": 4,
 "nbformat_minor": 2
}
