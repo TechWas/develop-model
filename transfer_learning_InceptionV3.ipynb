{
 "cells": [
  {
   "attachments": {},
   "cell_type": "markdown",
   "metadata": {},
   "source": [
    "# Transfer Learning with InceptionV3"
   ]
  },
  {
   "attachments": {},
   "cell_type": "markdown",
   "metadata": {},
   "source": [
    "## Import Libraries"
   ]
  },
  {
   "cell_type": "code",
   "execution_count": 1,
   "metadata": {},
   "outputs": [],
   "source": [
    "import os\n",
    "import matplotlib.pyplot as plt\n",
    "import tensorflow as tf\n",
    "from keras.preprocessing.image import ImageDataGenerator\n",
    "# from tensorflow.keras.preprocessing.image import load_img\n",
    "from keras.models import Sequential\n",
    "from keras.layers import Dense, Flatten"
   ]
  },
  {
   "cell_type": "markdown",
   "metadata": {},
   "source": [
    "## Data Preprocessing"
   ]
  },
  {
   "cell_type": "code",
   "execution_count": null,
   "metadata": {},
   "outputs": [],
   "source": [
    "train_data_dir = 'Dataset/train & validation'"
   ]
  },
  {
   "cell_type": "markdown",
   "metadata": {},
   "source": [
    "### Preview Data"
   ]
  },
  {
   "cell_type": "code",
   "execution_count": null,
   "metadata": {},
   "outputs": [],
   "source": [
    "# print(\"Sample day image:\")\n",
    "# plt.imshow(load_img(f\"{os.path.join(day_dir, os.listdir(day_dir)[0])}\"))\n",
    "# plt.show()\n",
    "\n",
    "# print(\"\\nSample night image:\")\n",
    "# plt.imshow(load_img(f\"{os.path.join(night_dir, os.listdir(night_dir)[0])}\"))\n",
    "# plt.show()"
   ]
  },
  {
   "cell_type": "markdown",
   "metadata": {},
   "source": [
    "### Image Augmentation"
   ]
  },
  {
   "cell_type": "code",
   "execution_count": null,
   "metadata": {},
   "outputs": [],
   "source": [
    "IMAGE_SIZE = 150\n",
    "BATCH_SIZE = 32"
   ]
  },
  {
   "cell_type": "code",
   "execution_count": null,
   "metadata": {},
   "outputs": [],
   "source": [
    "train_datagen = ImageDataGenerator(rescale=1./255,\n",
    "                                #    rotation_range=40,\n",
    "                                #    width_shift_range=0.2,\n",
    "                                #    height_shift_range=0.2,\n",
    "                                #    shear_range=0.2,\n",
    "                                #    zoom_range=0.2,\n",
    "                                #    horizontal_flip=True,\n",
    "                                #    fill_mode='nearest'\n",
    "                                validation_split=0.2)"
   ]
  },
  {
   "cell_type": "code",
   "execution_count": null,
   "metadata": {},
   "outputs": [
    {
     "name": "stdout",
     "output_type": "stream",
     "text": [
      "Found 1037 images belonging to 5 classes.\n",
      "Found 258 images belonging to 5 classes.\n"
     ]
    }
   ],
   "source": [
    "# Set up the data generator for training and validation\n",
    "train_generator = train_datagen.flow_from_directory(train_data_dir,\n",
    "                                                    target_size=(IMAGE_SIZE, IMAGE_SIZE),\n",
    "                                                    batch_size=BATCH_SIZE,\n",
    "                                                    class_mode='categorical',\n",
    "                                                    subset='training')\n",
    "\n",
    "validation_generator = train_datagen.flow_from_directory(train_data_dir,\n",
    "                                                         target_size=(IMAGE_SIZE, IMAGE_SIZE),\n",
    "                                                         batch_size=BATCH_SIZE,\n",
    "                                                         class_mode='categorical',\n",
    "                                                         subset='validation')"
   ]
  },
  {
   "attachments": {},
   "cell_type": "markdown",
   "metadata": {},
   "source": [
    "## Modelling"
   ]
  },
  {
   "attachments": {},
   "cell_type": "markdown",
   "metadata": {},
   "source": [
    "### Pre-Trained Model Load"
   ]
  },
  {
   "cell_type": "code",
   "execution_count": 14,
   "metadata": {},
   "outputs": [],
   "source": [
    "# Load the pre-trained InceptionV3 model\n",
    "incv3 = tf.keras.applications.InceptionV3(weights='imagenet',\n",
    "                                          include_top=False,\n",
    "                                          input_shape=(150, 150, 3))\n",
    "\n",
    "# Freeze the weights of the pre-trained layers\n",
    "for layer in incv3.layers:\n",
    "    incv3.trainable = False"
   ]
  },
  {
   "attachments": {},
   "cell_type": "markdown",
   "metadata": {},
   "source": [
    "### Fine Tuning"
   ]
  },
  {
   "cell_type": "code",
   "execution_count": 7,
   "metadata": {},
   "outputs": [
    {
     "name": "stdout",
     "output_type": "stream",
     "text": [
      "Model: \"sequential\"\n",
      "_________________________________________________________________\n",
      " Layer (type)                Output Shape              Param #   \n",
      "=================================================================\n",
      " inception_v3 (Functional)   (None, 3, 3, 2048)        21802784  \n",
      "                                                                 \n",
      " flatten (Flatten)           (None, 18432)             0         \n",
      "                                                                 \n",
      " dense (Dense)               (None, 256)               4718848   \n",
      "                                                                 \n",
      " dense_1 (Dense)             (None, 5)                 1285      \n",
      "                                                                 \n",
      "=================================================================\n",
      "Total params: 26,522,917\n",
      "Trainable params: 4,720,133\n",
      "Non-trainable params: 21,802,784\n",
      "_________________________________________________________________\n"
     ]
    }
   ],
   "source": [
    "# Add your custom layers on top of the pre-trained model\n",
    "model = Sequential([\n",
    "    incv3,\n",
    "    Flatten(),\n",
    "    Dense(256, activation='relu'),\n",
    "    Dense(5, activation='softmax'),\n",
    "])\n",
    "\n",
    "# Compile the model\n",
    "model.compile(optimizer='adam',\n",
    "              loss='categorical_crossentropy',\n",
    "              metrics=['accuracy'])\n",
    "\n",
    "# Look at model arshitecture\n",
    "model.summary()"
   ]
  },
  {
   "cell_type": "code",
   "execution_count": 8,
   "metadata": {},
   "outputs": [
    {
     "name": "stdout",
     "output_type": "stream",
     "text": [
      "Epoch 1/10\n",
      "34/34 [==============================] - 18s 426ms/step - loss: 8.9548 - accuracy: 0.6478 - val_loss: 0.5106 - val_accuracy: 0.8935\n",
      "Epoch 2/10\n",
      "34/34 [==============================] - 13s 374ms/step - loss: 0.4202 - accuracy: 0.9120 - val_loss: 0.1001 - val_accuracy: 0.9676\n",
      "Epoch 3/10\n",
      "34/34 [==============================] - 13s 372ms/step - loss: 0.1054 - accuracy: 0.9666 - val_loss: 0.2221 - val_accuracy: 0.9306\n",
      "Epoch 4/10\n",
      "34/34 [==============================] - 13s 374ms/step - loss: 0.0597 - accuracy: 0.9833 - val_loss: 0.0734 - val_accuracy: 0.9676\n",
      "Epoch 5/10\n",
      "34/34 [==============================] - 13s 371ms/step - loss: 0.0185 - accuracy: 0.9954 - val_loss: 0.0813 - val_accuracy: 0.9815\n",
      "Epoch 6/10\n",
      "34/34 [==============================] - 13s 379ms/step - loss: 0.0083 - accuracy: 0.9991 - val_loss: 0.0761 - val_accuracy: 0.9630\n",
      "Epoch 7/10\n",
      "34/34 [==============================] - 13s 379ms/step - loss: 0.0051 - accuracy: 1.0000 - val_loss: 0.0775 - val_accuracy: 0.9630\n",
      "Epoch 8/10\n",
      "34/34 [==============================] - 13s 385ms/step - loss: 0.0035 - accuracy: 1.0000 - val_loss: 0.0679 - val_accuracy: 0.9722\n",
      "Epoch 9/10\n",
      "34/34 [==============================] - 13s 385ms/step - loss: 0.0028 - accuracy: 1.0000 - val_loss: 0.0569 - val_accuracy: 0.9722\n",
      "Epoch 10/10\n",
      "34/34 [==============================] - 14s 407ms/step - loss: 0.0024 - accuracy: 1.0000 - val_loss: 0.0599 - val_accuracy: 0.9722\n"
     ]
    }
   ],
   "source": [
    "history = model.fit(train_generator,\n",
    "                    epochs=10,\n",
    "                    validation_data=validation_generator)"
   ]
  },
  {
   "attachments": {},
   "cell_type": "markdown",
   "metadata": {},
   "source": [
    "## Model Evaluation"
   ]
  },
  {
   "cell_type": "code",
   "execution_count": 9,
   "metadata": {},
   "outputs": [],
   "source": [
    "def plot_graghs(history, metric):\n",
    "  plt.plot(history.history[metric])\n",
    "  plt.plot(history.history['val_'+metric], '')\n",
    "  plt.xlabel('Epochs')\n",
    "  plt.ylabel(metric)\n",
    "  plt.legend([metric, 'val_'+metric])\n",
    "  plt.show()"
   ]
  },
  {
   "attachments": {},
   "cell_type": "markdown",
   "metadata": {},
   "source": [
    "### Accuracy"
   ]
  },
  {
   "cell_type": "code",
   "execution_count": 10,
   "metadata": {},
   "outputs": [
    {
     "data": {
      "image/png": "[encoded data removed]",
      "text/plain": [
       "<Figure size 432x288 with 1 Axes>"
      ]
     },
     "metadata": {
      "needs_background": "light"
     },
     "output_type": "display_data"
    }
   ],
   "source": [
    "plot_graghs(history, 'accuracy')"
   ]
  },
  {
   "attachments": {},
   "cell_type": "markdown",
   "metadata": {},
   "source": [
    "### Loss"
   ]
  },
  {
   "cell_type": "code",
   "execution_count": 11,
   "metadata": {},
   "outputs": [
    {
     "data": {
      "image/png": "[encoded data removed]",
      "text/plain": [
       "<Figure size 432x288 with 1 Axes>"
      ]
     },
     "metadata": {
      "needs_background": "light"
     },
     "output_type": "display_data"
    }
   ],
   "source": [
    "plot_graghs(history, 'loss')"
   ]
  },
  {
   "cell_type": "markdown",
   "metadata": {},
   "source": [
    "## Model Predictions"
   ]
  },
  {
   "cell_type": "code",
   "execution_count": 12,
   "metadata": {},
   "outputs": [
    {
     "name": "stdout",
     "output_type": "stream",
     "text": [
      "1/1 [==============================] - 1s 897ms/step\n",
      "keyboard.jpg\n",
      "Keyboard : 99.81%\n",
      "Laptop : 0.19%\n",
      "Monitor : 0.00%\n",
      "Mouse : 0.00%\n",
      "Phone : 0.00%\n",
      "1/1 [==============================] - 0s 45ms/step\n",
      "laptop_0,5_mati.jpg\n",
      "Keyboard : 0.24%\n",
      "Laptop : 89.70%\n",
      "Monitor : 0.46%\n",
      "Mouse : 0.00%\n",
      "Phone : 9.60%\n",
      "1/1 [==============================] - 0s 45ms/step\n",
      "laptop_hidup.jpg\n",
      "Keyboard : 2.02%\n",
      "Laptop : 97.97%\n",
      "Monitor : 0.00%\n",
      "Mouse : 0.00%\n",
      "Phone : 0.00%\n",
      "1/1 [==============================] - 0s 47ms/step\n",
      "laptop_mati.jpg\n",
      "Keyboard : 0.01%\n",
      "Laptop : 99.91%\n",
      "Monitor : 0.05%\n",
      "Mouse : 0.00%\n",
      "Phone : 0.03%\n",
      "1/1 [==============================] - 0s 43ms/step\n",
      "monitor_hidup.jpg\n",
      "Keyboard : 99.75%\n",
      "Laptop : 0.21%\n",
      "Monitor : 0.03%\n",
      "Mouse : 0.00%\n",
      "Phone : 0.00%\n",
      "1/1 [==============================] - 0s 46ms/step\n",
      "monitor_mati.jpg\n",
      "Keyboard : 0.00%\n",
      "Laptop : 6.46%\n",
      "Monitor : 81.91%\n",
      "Mouse : 0.00%\n",
      "Phone : 11.63%\n",
      "1/1 [==============================] - 0s 49ms/step\n",
      "mouse.jpg\n",
      "Keyboard : 0.01%\n",
      "Laptop : 0.31%\n",
      "Monitor : 0.03%\n",
      "Mouse : 99.54%\n",
      "Phone : 0.10%\n",
      "1/1 [==============================] - 0s 43ms/step\n",
      "phone_hidup.jpg\n",
      "Keyboard : 0.00%\n",
      "Laptop : 0.00%\n",
      "Monitor : 0.03%\n",
      "Mouse : 0.00%\n",
      "Phone : 99.97%\n",
      "1/1 [==============================] - 0s 44ms/step\n",
      "phone_mati.jpg\n",
      "Keyboard : 0.00%\n",
      "Laptop : 0.05%\n",
      "Monitor : 0.53%\n",
      "Mouse : 27.23%\n",
      "Phone : 72.18%\n"
     ]
    }
   ],
   "source": [
    "import numpy as np\n",
    "from tensorflow.keras.utils import load_img, img_to_array\n",
    "\n",
    "label = ['Keyboard', 'Laptop', 'Monitor', 'Mouse', 'Phone']\n",
    "for fn in os.listdir('Dataset/test'):\n",
    "  path = './Dataset/test/' + fn\n",
    "  img = load_img(path, target_size=(150, 150))\n",
    "  x = img_to_array(img)\n",
    "  x /= 255\n",
    "  x = np.expand_dims(x, axis=0)\n",
    "\n",
    "  images = np.vstack([x])\n",
    "  classes = model.predict(images, batch_size=10)\n",
    "  print(fn)\n",
    "  for i, l in zip(classes[0], label):\n",
    "    print(\"{} : {:.2%}\".format(l, i))"
   ]
  },
  {
   "attachments": {},
   "cell_type": "markdown",
   "metadata": {},
   "source": [
    "## Save the Model"
   ]
  },
  {
   "cell_type": "code",
   "execution_count": 13,
   "metadata": {},
   "outputs": [],
   "source": [
    "# Save the model\n",
    "# model.save('e_waste_classifier.h5')"
   ]
  }
 ],
 "metadata": {
  "kernelspec": {
   "display_name": "Python 3",
   "language": "python",
   "name": "python3"
  },
  "language_info": {
   "codemirror_mode": {
    "name": "ipython",
    "version": 3
   },
   "file_extension": ".py",
   "mimetype": "text/x-python",
   "name": "python",
   "nbconvert_exporter": "python",
   "pygments_lexer": "ipython3",
   "version": "3.10.5"
  },
  "orig_nbformat": 4
 },
 "nbformat": 4,
 "nbformat_minor": 2
}
