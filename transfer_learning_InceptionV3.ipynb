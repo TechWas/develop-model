{
 "cells": [
  {
   "attachments": {},
   "cell_type": "markdown",
   "metadata": {},
   "source": [
    "# Transfer Learning with InceptionV3"
   ]
  },
  {
   "attachments": {},
   "cell_type": "markdown",
   "metadata": {},
   "source": [
    "## Import Libraries"
   ]
  },
  {
   "cell_type": "code",
   "execution_count": 16,
   "metadata": {},
   "outputs": [],
   "source": [
    "import os\n",
    "import matplotlib.pyplot as plt\n",
    "import tensorflow as tf\n",
    "from keras.preprocessing.image import ImageDataGenerator\n",
    "# from tensorflow.keras.preprocessing.image import load_img\n",
    "from keras.models import Sequential\n",
    "from keras.layers import Dense, Flatten"
   ]
  },
  {
   "attachments": {},
   "cell_type": "markdown",
   "metadata": {},
   "source": [
    "## Data Preprocessing"
   ]
  },
  {
   "cell_type": "code",
   "execution_count": 2,
   "metadata": {},
   "outputs": [],
   "source": [
    "train_data_dir = 'Dataset/train'\n",
    "validation_data_dir = 'Dataset/validation'"
   ]
  },
  {
   "attachments": {},
   "cell_type": "markdown",
   "metadata": {},
   "source": [
    "### Preview Data"
   ]
  },
  {
   "cell_type": "code",
   "execution_count": 3,
   "metadata": {},
   "outputs": [],
   "source": [
    "# print(\"Sample day image:\")\n",
    "# plt.imshow(load_img(f\"{os.path.join(day_dir, os.listdir(day_dir)[0])}\"))\n",
    "# plt.show()\n",
    "\n",
    "# print(\"\\nSample night image:\")\n",
    "# plt.imshow(load_img(f\"{os.path.join(night_dir, os.listdir(night_dir)[0])}\"))\n",
    "# plt.show()"
   ]
  },
  {
   "attachments": {},
   "cell_type": "markdown",
   "metadata": {},
   "source": [
    "### Image Augmentation"
   ]
  },
  {
   "cell_type": "code",
   "execution_count": 4,
   "metadata": {},
   "outputs": [],
   "source": [
    "train_datagen = ImageDataGenerator(rescale=1./255,\n",
    "                                   rotation_range=40,\n",
    "                                   width_shift_range=0.2,\n",
    "                                   height_shift_range=0.2,\n",
    "                                   shear_range=0.2,\n",
    "                                   zoom_range=0.2,\n",
    "                                   horizontal_flip=True,\n",
    "                                   fill_mode='nearest')\n",
    "\n",
    "validation_datagen = ImageDataGenerator(rescale=1./255)"
   ]
  },
  {
   "cell_type": "code",
   "execution_count": 5,
   "metadata": {},
   "outputs": [
    {
     "name": "stdout",
     "output_type": "stream",
     "text": [
      "Found 1079 images belonging to 5 classes.\n",
      "Found 216 images belonging to 5 classes.\n"
     ]
    }
   ],
   "source": [
    "# Set up the data generator for training and validation\n",
    "train_generator = train_datagen.flow_from_directory(train_data_dir,\n",
    "                                                    target_size=(150, 150),\n",
    "                                                    batch_size=32,\n",
    "                                                    class_mode='categorical')\n",
    "\n",
    "validation_generator = validation_datagen.flow_from_directory(validation_data_dir,\n",
    "                                                              target_size=(150, 150),\n",
    "                                                              batch_size=32,\n",
    "                                                              class_mode='categorical')"
   ]
  },
  {
   "attachments": {},
   "cell_type": "markdown",
   "metadata": {},
   "source": [
    "## Modelling"
   ]
  },
  {
   "attachments": {},
   "cell_type": "markdown",
   "metadata": {},
   "source": [
    "### Pre-Trained Model Load"
   ]
  },
  {
   "cell_type": "code",
   "execution_count": 6,
   "metadata": {},
   "outputs": [
    {
     "name": "stdout",
     "output_type": "stream",
     "text": [
      "Downloading data from https://storage.googleapis.com/tensorflow/keras-applications/inception_v3/inception_v3_weights_tf_dim_ordering_tf_kernels_notop.h5\n",
      "87910968/87910968 [==============================] - 130s 1us/step\n"
     ]
    }
   ],
   "source": [
    "# Load the pre-trained InceptionV3 model\n",
    "incv3 = tf.keras.applications.InceptionV3(weights='imagenet',\n",
    "                                          include_top=False,\n",
    "                                          input_shape=(150, 150, 3))\n",
    "\n",
    "# Freeze the weights of the pre-trained layers\n",
    "for layer in incv3.layers:\n",
    "    layer.trainable = False"
   ]
  },
  {
   "attachments": {},
   "cell_type": "markdown",
   "metadata": {},
   "source": [
    "### Fine Tuning"
   ]
  },
  {
   "cell_type": "code",
   "execution_count": 7,
   "metadata": {},
   "outputs": [
    {
     "name": "stdout",
     "output_type": "stream",
     "text": [
      "Model: \"sequential\"\n",
      "_________________________________________________________________\n",
      " Layer (type)                Output Shape              Param #   \n",
      "=================================================================\n",
      " inception_v3 (Functional)   (None, 3, 3, 2048)        21802784  \n",
      "                                                                 \n",
      " flatten (Flatten)           (None, 18432)             0         \n",
      "                                                                 \n",
      " dense (Dense)               (None, 256)               4718848   \n",
      "                                                                 \n",
      " dense_1 (Dense)             (None, 5)                 1285      \n",
      "                                                                 \n",
      "=================================================================\n",
      "Total params: 26,522,917\n",
      "Trainable params: 4,720,133\n",
      "Non-trainable params: 21,802,784\n",
      "_________________________________________________________________\n"
     ]
    }
   ],
   "source": [
    "# Add your custom layers on top of the pre-trained model\n",
    "model = Sequential([\n",
    "    incv3,\n",
    "    Flatten(),\n",
    "    Dense(256, activation='relu'),\n",
    "    Dense(5, activation='softmax'),\n",
    "])\n",
    "\n",
    "# Compile the model\n",
    "model.compile(optimizer='adam',\n",
    "              loss='categorical_crossentropy',\n",
    "              metrics=['accuracy'])\n",
    "\n",
    "# Look at model arshitecture\n",
    "model.summary()"
   ]
  },
  {
   "cell_type": "code",
   "execution_count": 8,
   "metadata": {},
   "outputs": [
    {
     "name": "stdout",
     "output_type": "stream",
     "text": [
      "Epoch 1/10\n",
      "34/34 [==============================] - 18s 445ms/step - loss: 7.8166 - accuracy: 0.6135 - val_loss: 1.1506 - val_accuracy: 0.7870\n",
      "Epoch 2/10\n",
      "34/34 [==============================] - 14s 425ms/step - loss: 0.6406 - accuracy: 0.8304 - val_loss: 0.3186 - val_accuracy: 0.9120\n",
      "Epoch 3/10\n",
      "34/34 [==============================] - 15s 443ms/step - loss: 0.4731 - accuracy: 0.8554 - val_loss: 0.3021 - val_accuracy: 0.9120\n",
      "Epoch 4/10\n",
      "34/34 [==============================] - 15s 448ms/step - loss: 0.4438 - accuracy: 0.8545 - val_loss: 0.3324 - val_accuracy: 0.9074\n",
      "Epoch 5/10\n",
      "34/34 [==============================] - 15s 427ms/step - loss: 0.4122 - accuracy: 0.8721 - val_loss: 0.1733 - val_accuracy: 0.9398\n",
      "Epoch 6/10\n",
      "34/34 [==============================] - 15s 442ms/step - loss: 0.3352 - accuracy: 0.8953 - val_loss: 0.1821 - val_accuracy: 0.9306\n",
      "Epoch 7/10\n",
      "34/34 [==============================] - 14s 424ms/step - loss: 0.4159 - accuracy: 0.8675 - val_loss: 0.2160 - val_accuracy: 0.9444\n",
      "Epoch 8/10\n",
      "34/34 [==============================] - 15s 427ms/step - loss: 0.3298 - accuracy: 0.8953 - val_loss: 0.1075 - val_accuracy: 0.9630\n",
      "Epoch 9/10\n",
      "34/34 [==============================] - 14s 422ms/step - loss: 0.2633 - accuracy: 0.9092 - val_loss: 0.1669 - val_accuracy: 0.9444\n",
      "Epoch 10/10\n",
      "34/34 [==============================] - 15s 436ms/step - loss: 0.3984 - accuracy: 0.8851 - val_loss: 0.4044 - val_accuracy: 0.8843\n"
     ]
    }
   ],
   "source": [
    "history = model.fit(train_generator,\n",
    "                    epochs=10,\n",
    "                    validation_data=validation_generator)"
   ]
  },
  {
   "attachments": {},
   "cell_type": "markdown",
   "metadata": {},
   "source": [
    "## Model Evaluation"
   ]
  },
  {
   "cell_type": "code",
   "execution_count": 12,
   "metadata": {},
   "outputs": [],
   "source": [
    "def plot_graghs(history, metric):\n",
    "  plt.plot(history.history[metric])\n",
    "  plt.plot(history.history['val_'+metric], '')\n",
    "  plt.xlabel('Epochs')\n",
    "  plt.ylabel(metric)\n",
    "  plt.legend([metric, 'val_'+metric])\n",
    "  plt.show()"
   ]
  },
  {
   "attachments": {},
   "cell_type": "markdown",
   "metadata": {},
   "source": [
    "### Accuracy"
   ]
  },
  {
   "cell_type": "code",
   "execution_count": 13,
   "metadata": {},
   "outputs": [
    {
     "data": {
      "image/png": "[encoded data removed]",
      "text/plain": [
       "<Figure size 432x288 with 1 Axes>"
      ]
     },
     "metadata": {
      "needs_background": "light"
     },
     "output_type": "display_data"
    }
   ],
   "source": [
    "plot_graghs(history, 'accuracy')"
   ]
  },
  {
   "attachments": {},
   "cell_type": "markdown",
   "metadata": {},
   "source": [
    "### Loss"
   ]
  },
  {
   "cell_type": "code",
   "execution_count": 14,
   "metadata": {},
   "outputs": [
    {
     "data": {
      "image/png": "[encoded data removed]",
      "text/plain": [
       "<Figure size 432x288 with 1 Axes>"
      ]
     },
     "metadata": {
      "needs_background": "light"
     },
     "output_type": "display_data"
    }
   ],
   "source": [
    "plot_graghs(history, 'loss')"
   ]
  },
  {
   "cell_type": "markdown",
   "metadata": {},
   "source": [
    "## Model Predictions"
   ]
  },
  {
   "cell_type": "code",
   "execution_count": 18,
   "metadata": {},
   "outputs": [
    {
     "name": "stdout",
     "output_type": "stream",
     "text": [
      "1/1 [==============================] - 0s 62ms/step\n",
      "keyboard.jpg\n",
      "Keyboard : 100.00%\n",
      "Laptop : 0.00%\n",
      "Monitor : 0.00%\n",
      "Mouse : 0.00%\n",
      "Phone : 0.00%\n",
      "1/1 [==============================] - 0s 49ms/step\n",
      "laptop_0,5_mati.jpg\n",
      "Keyboard : 96.45%\n",
      "Laptop : 3.55%\n",
      "Monitor : 0.00%\n",
      "Mouse : 0.00%\n",
      "Phone : 0.00%\n",
      "1/1 [==============================] - 0s 48ms/step\n",
      "laptop_hidup.jpg\n",
      "Keyboard : 99.96%\n",
      "Laptop : 0.01%\n",
      "Monitor : 0.00%\n",
      "Mouse : 0.04%\n",
      "Phone : 0.00%\n",
      "1/1 [==============================] - 0s 46ms/step\n",
      "laptop_mati.jpg\n",
      "Keyboard : 68.70%\n",
      "Laptop : 31.30%\n",
      "Monitor : 0.00%\n",
      "Mouse : 0.00%\n",
      "Phone : 0.00%\n",
      "1/1 [==============================] - 0s 41ms/step\n",
      "monitor_hidup.jpg\n",
      "Keyboard : 100.00%\n",
      "Laptop : 0.00%\n",
      "Monitor : 0.00%\n",
      "Mouse : 0.00%\n",
      "Phone : 0.00%\n",
      "1/1 [==============================] - 0s 43ms/step\n",
      "monitor_mati.jpg\n",
      "Keyboard : 0.00%\n",
      "Laptop : 0.02%\n",
      "Monitor : 96.69%\n",
      "Mouse : 0.57%\n",
      "Phone : 2.72%\n",
      "1/1 [==============================] - 0s 45ms/step\n",
      "mouse.jpg\n",
      "Keyboard : 0.00%\n",
      "Laptop : 0.00%\n",
      "Monitor : 0.06%\n",
      "Mouse : 99.94%\n",
      "Phone : 0.00%\n",
      "1/1 [==============================] - 0s 41ms/step\n",
      "phone_hidup.jpg\n",
      "Keyboard : 0.00%\n",
      "Laptop : 0.00%\n",
      "Monitor : 1.19%\n",
      "Mouse : 98.19%\n",
      "Phone : 0.62%\n",
      "1/1 [==============================] - 0s 47ms/step\n",
      "phone_mati.jpg\n",
      "Keyboard : 0.02%\n",
      "Laptop : 0.00%\n",
      "Monitor : 1.50%\n",
      "Mouse : 95.33%\n",
      "Phone : 3.15%\n"
     ]
    }
   ],
   "source": [
    "import numpy as np\n",
    "from tensorflow.keras.utils import load_img, img_to_array\n",
    "\n",
    "label = ['Keyboard', 'Laptop', 'Monitor', 'Mouse', 'Phone']\n",
    "for fn in os.listdir('test'):\n",
    "  path = './test/' + fn\n",
    "  img = load_img(path, target_size=(150, 150))\n",
    "  x = img_to_array(img)\n",
    "  x /= 255\n",
    "  x = np.expand_dims(x, axis=0)\n",
    "\n",
    "  images = np.vstack([x])\n",
    "  classes = model.predict(images, batch_size=10)\n",
    "  print(fn)\n",
    "  for i, l in zip(classes[0], label):\n",
    "    print(\"{} : {:.2%}\".format(l, i))"
   ]
  },
  {
   "attachments": {},
   "cell_type": "markdown",
   "metadata": {},
   "source": [
    "## Save the Model"
   ]
  },
  {
   "cell_type": "code",
   "execution_count": 11,
   "metadata": {},
   "outputs": [],
   "source": [
    "# Save the model\n",
    "# model.save('e_waste_classifier.h5')"
   ]
  }
 ],
 "metadata": {
  "kernelspec": {
   "display_name": "Python 3",
   "language": "python",
   "name": "python3"
  },
  "language_info": {
   "codemirror_mode": {
    "name": "ipython",
    "version": 3
   },
   "file_extension": ".py",
   "mimetype": "text/x-python",
   "name": "python",
   "nbconvert_exporter": "python",
   "pygments_lexer": "ipython3",
   "version": "3.10.5"
  },
  "orig_nbformat": 4
 },
 "nbformat": 4,
 "nbformat_minor": 2
}
